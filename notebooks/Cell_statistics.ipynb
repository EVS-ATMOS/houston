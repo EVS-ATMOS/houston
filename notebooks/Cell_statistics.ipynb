{
 "cells": [
  {
   "cell_type": "code",
   "execution_count": 1,
   "metadata": {},
   "outputs": [
    {
     "name": "stdout",
     "output_type": "stream",
     "text": [
      "Populating the interactive namespace from numpy and matplotlib\n"
     ]
    }
   ],
   "source": [
    "%pylab inline\n",
    "import pandas\n",
    "from datetime import datetime\n",
    "import matplotlib.dates as mdates\n",
    "import cartopy.crs as ccrs\n",
    "from cartopy.mpl.ticker import LongitudeFormatter, LatitudeFormatter"
   ]
  },
  {
   "cell_type": "code",
   "execution_count": null,
   "metadata": {},
   "outputs": [
    {
     "data": {
      "text/plain": [
       "Index([u'storm_id', u'scan', u'uid', u'area', u'grid_x', u'grid_y',\n",
       "       u'isolated', u'lat', u'lon', u'max', u'max_alt', u'time', u'vol',\n",
       "       u'file', u'kdp_pct', u'kdp_pet', u'zdr_pct', u'zdr_pet', u'zhh_pct',\n",
       "       u'zhh_pet'],\n",
       "      dtype='object')"
      ]
     },
     "execution_count": 2,
     "metadata": {},
     "output_type": "execute_result"
    }
   ],
   "source": [
    "data = pandas.read_csv('combined_storms.csv')\n",
    "data.keys()"
   ]
  },
  {
   "cell_type": "code",
   "execution_count": null,
   "metadata": {},
   "outputs": [],
   "source": [
    "cell_life_time = np.zeros(data['storm_id'].values.shape)\n",
    "# Go through each storm id\n",
    "for i in np.unique(data['storm_id'].values):\n",
    "    # Get uids\n",
    "    uids = np.unique(data['uid'].values[data['storm_id'].values == i])\n",
    "    for ids in uids:\n",
    "        times = data['time'].values[np.logical_and(data['uid'].values == i,\n",
    "                                                   data['storm_id'].values == ids)]\n",
    "        time = [datetime.strptime(timer, '%Y-%m-%d %H:%M:%S') for timer in times]\n",
    "        lifetime = [timer - time[0] for timer in time]\n",
    "        lifetime = [timer.seconds for timer in lifetime]\n",
    "        cell_life_time[np.logical_and(data['uid'].values == i,\n",
    "                                      data['storm_id'].values == ids)] = lifetime\n",
    "print(np.histogram(cell_life_time))        "
   ]
  },
  {
   "cell_type": "code",
   "execution_count": null,
   "metadata": {},
   "outputs": [],
   "source": [
    "datetimes = [mdates.date2num(datetime.strptime(date_str, '%Y-%m-%d %H:%M:%S')) \n",
    "             for date_str in data['time']]\n",
    "dts = [(datetime.strptime(date_str, '%Y-%m-%d %H:%M:%S')) \n",
    "       for date_str in data['time']]\n",
    "days = mdates.DayLocator()   # every year\n",
    "months = mdates.MonthLocator()  # every month \n",
    "xbins = months.tick_values(dts[0],dts[-2])\n",
    "xbins = np.append(xbins, xbins[-1]+30.0)\n",
    "month_formatter = mdates.DateFormatter('%m')\n",
    "day_formatter = mdates.DateFormatter('%m')\n",
    "fig, ax = plt.subplots(figsize=(17,10))\n",
    "list = data['kdp_pet'].values\n",
    "isolated = data['isolated'].values\n",
    "list[list == '--'] = 'nan'\n",
    "list[isolated == False] = 'nan'\n",
    "list = [float(x) for x in list]\n",
    "list[list < 0] = np.nan\n",
    "matplotlib.rcParams.update({'font.size': 22})\n",
    "kdppe = np.ma.masked_less(list,0)\n",
    "ax.scatter(datetimes, kdppe, alpha=0.2, color='k')\n",
    "ax2 = ax.twinx() \n",
    "month_hist, bins = np.histogram(mons[isolated == True], range(1,14))\n",
    "ax2.bar(xbins[:]-30, month_hist[:], width=15, color='b', alpha=0.3)\n",
    "ax.xaxis.set_major_locator(months)\n",
    "ax.xaxis.set_major_formatter(day_formatter)\n",
    "#ax.xaxis.set_minor_locator(days)\n",
    "ax.set_xlabel('Time of year [month]')\n",
    "ax.set_ylabel('KDP PE [deg/km*m]')\n",
    "ax.set_ylim([0, 4000])\n",
    "ax2.set_ylabel('# of cells')"
   ]
  },
  {
   "cell_type": "code",
   "execution_count": null,
   "metadata": {},
   "outputs": [],
   "source": [
    "fig, ax = plt.subplots(figsize=(20,10))\n",
    "mon = [dt.month for dt in dts]\n",
    "mon = np.ma.array(mon)\n",
    "mons = np.ma.masked_where(np.ma.array(isolated) == True, mon)\n",
    "month_hist, bins = np.histogram(mons[isolated == True], range(0,13))\n",
    "ax.bar(bins[:-1], month_hist)\n",
    "ax.set_xticks(range(1,13))\n",
    "plt.xlabel('Month')\n",
    "plt.ylabel('# of cells')"
   ]
  },
  {
   "cell_type": "code",
   "execution_count": null,
   "metadata": {},
   "outputs": [],
   "source": [
    "datetimes = [mdates.date2num(datetime.strptime(date_str, '%Y-%m-%d %H:%M:%S')) \n",
    "             for date_str in data['time']]\n",
    "dts = [(datetime.strptime(date_str, '%Y-%m-%d %H:%M:%S')) \n",
    "       for date_str in data['time']]\n",
    "days = mdates.DayLocator()   # every year\n",
    "months = mdates.MonthLocator()  # every month \n",
    "xbins = months.tick_values(dts[0],dts[-2])\n",
    "xbins = np.append(xbins, xbins[-1]+30.0)\n",
    "month_formatter = mdates.DateFormatter('%m')\n",
    "day_formatter = mdates.DateFormatter('%m')\n",
    "fig, ax = plt.subplots(figsize=(17,10))\n",
    "list = cell_life_time/60.0\n",
    "isolated = data['isolated'].values\n",
    "list[list == '--'] = 'nan'\n",
    "list[isolated == False] = 'nan'\n",
    "list = [float(x) for x in list]\n",
    "list[list < 0] = np.nan\n",
    "matplotlib.rcParams.update({'font.size': 22})\n",
    "kdppe = np.ma.masked_less(list,0)\n",
    "ax.scatter(datetimes, kdppe, alpha=0.2, color='k')\n",
    "ax2 = ax.twinx() \n",
    "month_hist, bins = np.histogram(mons[isolated == True], range(1,14))\n",
    "ax2.bar(xbins[:]-30, month_hist[:], width=15, color='b', alpha=0.3)\n",
    "ax.xaxis.set_major_locator(months)\n",
    "ax.xaxis.set_major_formatter(day_formatter)\n",
    "#ax.xaxis.set_minor_locator(days)\n",
    "ax.set_xlabel('Time of year [month]')\n",
    "ax.set_ylabel('Cell life time [min]')\n",
    "ax.set_ylim([0, 200])\n",
    "ax2.set_ylabel('# of cells')"
   ]
  },
  {
   "cell_type": "code",
   "execution_count": null,
   "metadata": {},
   "outputs": [],
   "source": [
    "datetimes = [mdates.date2num(datetime.strptime(date_str, '%Y-%m-%d %H:%M:%S')) \n",
    "             for date_str in data['time']]\n",
    "dts = [(datetime.strptime(date_str, '%Y-%m-%d %H:%M:%S')) \n",
    "       for date_str in data['time']]\n",
    "days = mdates.DayLocator()   # every year\n",
    "months = mdates.MonthLocator()  # every month \n",
    "xbins = months.tick_values(dts[0],dts[-2])\n",
    "xbins = np.append(xbins, xbins[-1]+30.0)\n",
    "month_formatter = mdates.DateFormatter('%m')\n",
    "day_formatter = mdates.DateFormatter('%m')\n",
    "fig, ax = plt.subplots(figsize=(17,10))\n",
    "list = data['area'].values\n",
    "isolated = data['isolated'].values\n",
    "list[list == '--'] = 'nan'\n",
    "list[isolated == False] = 'nan'\n",
    "list = [float(x) for x in list]\n",
    "list[list < 0] = np.nan\n",
    "matplotlib.rcParams.update({'font.size': 22})\n",
    "kdppe = np.ma.masked_less(list,0)\n",
    "ax.scatter(datetimes, kdppe, alpha=0.2, color='k')\n",
    "ax2 = ax.twinx() \n",
    "month_hist, bins = np.histogram(mons[isolated == True], range(1,14))\n",
    "ax2.bar(xbins[:]-30, month_hist[:], width=15, color='b', alpha=0.3)\n",
    "ax.xaxis.set_major_locator(months)\n",
    "ax.xaxis.set_major_formatter(day_formatter)\n",
    "#ax.xaxis.set_minor_locator(days)\n",
    "ax.set_xlabel('Time of year [month]')\n",
    "ax.set_ylabel('Area [$km^{2}$]')\n",
    "ax.set_ylim([0, 200])\n",
    "ax2.set_ylabel('# of cells')"
   ]
  },
  {
   "cell_type": "code",
   "execution_count": null,
   "metadata": {},
   "outputs": [],
   "source": [
    "datetimes = [mdates.date2num(datetime.strptime(date_str, '%Y-%m-%d %H:%M:%S')) \n",
    "             for date_str in data['time']]\n",
    "dts = [(datetime.strptime(date_str, '%Y-%m-%d %H:%M:%S')) \n",
    "       for date_str in data['time']]\n",
    "days = mdates.DayLocator()   # every year\n",
    "months = mdates.MonthLocator()  # every month \n",
    "xbins = months.tick_values(dts[0],dts[-2])\n",
    "xbins = np.append(xbins, xbins[-1]+30.0)\n",
    "month_formatter = mdates.DateFormatter('%m')\n",
    "day_formatter = mdates.DateFormatter('%m')\n",
    "fig, ax = plt.subplots(figsize=(17,10))\n",
    "list = data['zdr_pet'].values\n",
    "isolated = data['isolated'].values\n",
    "list[list == '--'] = 'nan'\n",
    "list[isolated == False] = 'nan'\n",
    "list = [float(x) for x in list]\n",
    "list[list < 0] = np.nan\n",
    "matplotlib.rcParams.update({'font.size': 22})\n",
    "kdppe = np.ma.masked_less(list,0)\n",
    "ax.scatter(datetimes, kdppe, alpha=0.2, color='k')\n",
    "ax2 = ax.twinx() \n",
    "month_hist, bins = np.histogram(mons[isolated == True], range(1,14))\n",
    "ax2.bar(xbins[:]-30, month_hist[:], width=15, color='b', alpha=0.3)\n",
    "ax.xaxis.set_major_locator(months)\n",
    "ax.xaxis.set_major_formatter(day_formatter)\n",
    "#ax.xaxis.set_minor_locator(days)\n",
    "ax.set_xlabel('Time of year [month]')\n",
    "ax.set_ylabel('ZDR PE [dB*m]')\n",
    "ax.set_ylim([0, 15000])\n",
    "ax2.set_ylabel('# of cells')"
   ]
  },
  {
   "cell_type": "code",
   "execution_count": null,
   "metadata": {},
   "outputs": [],
   "source": [
    "datetimes = [mdates.date2num(datetime.strptime(date_str, '%Y-%m-%d %H:%M:%S')) \n",
    "             for date_str in data['time']]\n",
    "days = mdates.DayLocator()   # every year\n",
    "months = mdates.MonthLocator()  # every month \n",
    "month_formatter = mdates.DateFormatter('%m')\n",
    "day_formatter = mdates.DateFormatter('%m')\n",
    "fig, ax = plt.subplots(figsize=(17,10))\n",
    "list = data['zdr_pet'].values\n",
    "isolated = data['isolated'].values\n",
    "list[list == '--'] = 'nan'\n",
    "list[isolated == False] = 'nan'\n",
    "list = [float(x) for x in list]\n",
    "list[list < 0] = np.nan\n",
    "matplotlib.rcParams.update({'font.size': 22})\n",
    "kdppe = np.ma.masked_less(list,0)\n",
    "ax.scatter(datetimes, kdppe, alpha=0.2, color='k')\n",
    "ax.xaxis.set_major_locator(months)\n",
    "ax.xaxis.set_major_formatter(day_formatter)\n",
    "#ax.xaxis.set_minor_locator(days)\n",
    "ax.set_xlabel('Time of year [month]')\n",
    "ax.set_ylabel('ZDR PE [dB*m]')\n",
    "ax.set_ylim([0, 10000])"
   ]
  },
  {
   "cell_type": "code",
   "execution_count": null,
   "metadata": {},
   "outputs": [],
   "source": [
    "plt.figure(figsize=(22,7))\n",
    "plt.subplot(121)\n",
    "list = data['kdp_pet'].values\n",
    "area = data['area'].values\n",
    "lat = data['lat'].values\n",
    "lon = data['lon'].values\n",
    "area[list == '--'] = 'nan'\n",
    "list[list == '--'] = 'nan'\n",
    "cell_life_time[isolated == False] = np.nan\n",
    "kdppe = [float(x) for x in list]\n",
    "list[list < 0] = np.nan\n",
    "list = data['zdr_pet'].values\n",
    "list[list == '--'] = 'nan'\n",
    "list[isolated == False] = 'nan'\n",
    "zdr_pet = [float(x) for x in list]\n",
    "lat = [float(x) for x in lat]\n",
    "lon = [float(x) for x in lon]\n",
    "plt.scatter(area, cell_life_time/60.0, alpha=0.2, color='k')\n",
    "plt.ylim([0, 200])\n",
    "plt.xlabel('Storm area [$m^{2}$]')\n",
    "plt.ylabel('Cell life time [min]')\n",
    "plt.subplot(122)\n",
    "plt.scatter(cell_life_time/60.0, kdppe, alpha=0.2, color='k')\n",
    "plt.ylim([0, 12000])\n",
    "plt.ylabel('KDP PE [deg/km*m]')\n",
    "plt.xlabel('Cell life time [min]')"
   ]
  },
  {
   "cell_type": "code",
   "execution_count": null,
   "metadata": {},
   "outputs": [],
   "source": [
    "area_bins = np.arange(0, 200, 10)\n",
    "PE_bins = np.arange(0, 100, 10)\n",
    "counts, bins_x, bins_y = numpy.histogram2d(area, cell_life_time/60.0, bins=[area_bins, PE_bins])\n",
    "X, Y = np.meshgrid((bins_x[:-1]+bins_x[1:])/2, \n",
    "                   (bins_y[:-1]+bins_y[1:])/2)\n",
    "plt.figure(figsize=(25,9))\n",
    "plt.subplot(121)\n",
    "plt.pcolormesh(X, Y, np.transpose(counts)/np.sum(counts)*100, cmap='summer')\n",
    "bar_ax = plt.colorbar()\n",
    "bar_ax.set_label('%')\n",
    "plt.xlabel('Storm area [$m^{2}$]')\n",
    "plt.ylabel('Cell life time [min]')\n",
    "plt.subplot(122)\n",
    "PE_bins = np.arange(0, 15000, 25)\n",
    "counts, bins_x, bins_y = numpy.histogram2d(cell_life_time/60.0, kdppe, bins=[area_bins, PE_bins])\n",
    "X, Y = np.meshgrid((bins_x[:-1]+bins_x[1:])/2, \n",
    "                   (bins_y[:-1]+bins_y[1:])/2)\n",
    "plt.pcolormesh(X, Y, np.transpose(counts)/np.sum(counts)*100, cmap='summer')\n",
    "bar_ax = plt.colorbar()\n",
    "bar_ax.set_label('%')\n",
    "plt.xlabel('Cell life time [min]')\n",
    "plt.ylabel('KDP PE')"
   ]
  },
  {
   "cell_type": "code",
   "execution_count": null,
   "metadata": {
    "collapsed": true
   },
   "outputs": [],
   "source": []
  },
  {
   "cell_type": "code",
   "execution_count": null,
   "metadata": {},
   "outputs": [],
   "source": [
    "plt.figure(figsize=(10,10))\n",
    "ax = plt.axes(projection=ccrs.PlateCarree())\n",
    "ax.coastlines(resolution='10m')\n",
    "bins_lat = np.arange(-97, -92, 0.2)\n",
    "bins_lon = np.arange(26, 32, 0.2)\n",
    "kddpe = list\n",
    "lon = np.ma.masked_where(kdppe < 0, lon)\n",
    "lat = np.ma.masked_where(kdppe < 0, lat)\n",
    "kdppem = ma.masked_less(kdppe, 0)\n",
    "lonm = lon[np.where(kdppe > 0)]\n",
    "latm = lat[kdppe > 0]\n",
    "print(lonm)\n",
    "s = ax.scatter(lon, lat, \n",
    "               c=kdppem, cmap='summer')\n",
    "bar = plt.colorbar(s)\n",
    "bar.set_label('Area [$km^{2}$]')\n",
    "ax.set_xlim([-98, -92])\n",
    "ax.set_ylim([26, 32])\n",
    "ax.set_xlabel('Longitude [degrees]')\n",
    "ax.set_ylabel('Latitude [degrees]')\n",
    "ax.set_xticks(np.arange(-97, -91, 1))\n",
    "ax.set_yticks(np.arange(26, 33, 1))"
   ]
  },
  {
   "cell_type": "code",
   "execution_count": null,
   "metadata": {},
   "outputs": [],
   "source": [
    "plt.figure(figsize=(9,9))\n",
    "ax = plt.axes(projection=ccrs.PlateCarree())\n",
    "ax.coastlines(resolution='10m')\n",
    "bins_lat = np.arange(-97, -92, 0.2)\n",
    "bins_lon = np.arange(26, 32, 0.2)\n",
    "s = ax.scatter(data['lon'].values, data['lat'].values, \n",
    "               c=data['zdr_pet'].values.astype('float'), cmap='summer')\n",
    "bar = plt.colorbar(s)\n",
    "bar.set_label('ZDR PE [m]')\n",
    "ax.set_xlim([-97, -92])\n",
    "ax.set_ylim([26, 32])\n",
    "ax.set_xticks(np.arange(-97, -92, 0.75))\n",
    "ax.set_yticks(np.arange(26, 32, 0.75))"
   ]
  },
  {
   "cell_type": "code",
   "execution_count": null,
   "metadata": {
    "collapsed": true
   },
   "outputs": [],
   "source": []
  }
 ],
 "metadata": {
  "anaconda-cloud": {},
  "kernelspec": {
   "display_name": "Python [conda root]",
   "language": "python",
   "name": "conda-root-py"
  },
  "language_info": {
   "codemirror_mode": {
    "name": "ipython",
    "version": 2
   },
   "file_extension": ".py",
   "mimetype": "text/x-python",
   "name": "python",
   "nbconvert_exporter": "python",
   "pygments_lexer": "ipython2",
   "version": "2.7.12"
  }
 },
 "nbformat": 4,
 "nbformat_minor": 1
}
