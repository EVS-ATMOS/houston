{
 "cells": [
  {
   "cell_type": "code",
   "execution_count": 65,
   "metadata": {},
   "outputs": [],
   "source": [
    "import pyart\n",
    "from matplotlib import pyplot as plt\n",
    "import numpy as np\n",
    "import xarray as xr\n",
    "import arm_sapr_tools\n",
    "from copy import deepcopy\n",
    "import pydsd\n",
    "import pytmatrix\n",
    "from scipy.special import gamma\n",
    "from scipy.integrate import trapz\n",
    "from scipy import constants\n",
    "%matplotlib inline"
   ]
  },
  {
   "cell_type": "code",
   "execution_count": 2,
   "metadata": {},
   "outputs": [],
   "source": [
    "houston_radar = pyart.io.read('/data/houston/data/20170101/KHGX_sur_20170101.154633.nc')"
   ]
  },
  {
   "cell_type": "code",
   "execution_count": 3,
   "metadata": {},
   "outputs": [
    {
     "name": "stdout",
     "output_type": "stream",
     "text": [
      "0\n",
      "1\n",
      "2\n",
      "3\n",
      "4\n",
      "5\n",
      "6\n",
      "7\n",
      "8\n",
      "9\n",
      "10\n",
      "11\n",
      "12\n",
      "13\n",
      "14\n",
      "15\n"
     ]
    }
   ],
   "source": [
    "z_fld = deepcopy(houston_radar.fields['reflectivity'])\n",
    "for sweep in houston_radar.sweep_number['data']:\n",
    "    print(sweep)\n",
    "    my_x, my_y, my_z = houston_radar.get_gate_x_y_z(sweep)\n",
    "    my_n = arm_sapr_tools.synthesize.gaussian_iso_storm_with_sclw(my_x, my_y, my_z, \n",
    "                        x0=45000., y0=45000.,fzl=4000.0, sclw_depth=4000.,\n",
    "                       radius=10000.)\n",
    "    i1 = houston_radar.sweep_start_ray_index['data'][sweep]\n",
    "    i2 = houston_radar.sweep_end_ray_index['data'][sweep]\n",
    "    z_fld['data'][i1:i2] = my_n[0:-1]\n",
    "houston_radar.add_field('number', z_fld, replace_existing=True)"
   ]
  },
  {
   "cell_type": "code",
   "execution_count": 79,
   "metadata": {},
   "outputs": [
    {
     "name": "stdout",
     "output_type": "stream",
     "text": [
      "16777.015829086115\n",
      "17758.806713792765\n",
      "0.5442415546919397 1.159397969683511\n"
     ]
    },
    {
     "data": {
      "image/png": "[encoded data removed]",
      "text/plain": [
       "<matplotlib.figure.Figure at 0x1638a9c18>"
      ]
     },
     "metadata": {},
     "output_type": "display_data"
    }
   ],
   "source": [
    "\"\"\"\n",
    "This demo replicates Fig. 7.7 from Bringi and Chandrasekar (2001),\n",
    "Polarimetric Weather Radar: Principles and Applications. It shows the\n",
    "specific differential phase (Kdp) normalized by the total water content (W)\n",
    "as a function of the mass-weighted mean diameter.\n",
    "\"\"\"\n",
    "\n",
    "#from PyTMatrix https://github.com/jleinonen/pytmatrix/wiki/PyTMatrix-Kdp-example\n",
    "# define an exponential psd (eq. 7.12 with mu=0)\n",
    "class ExponentialPSD(object):\n",
    "    def __init__(self, lam=1.0, N0=1.0):\n",
    "        self.lam = float(lam)\n",
    "        self.N0 = float(N0)\n",
    "\n",
    "    def __call__(self, D):\n",
    "        return self.N0*np.exp(-self.lam*D)\n",
    "\n",
    "\n",
    "# the Beard-Chuang axis ratio (eq. 7.3)\n",
    "def axis_ratio(D):\n",
    "    return 1.0/(1.0048 + 5.7e-4*D - 2.628e-2*D**2 + 3.682e-3*D**3 -\n",
    "                1.677e-4*D**4)\n",
    "\n",
    "\n",
    "Dm = 1.0\n",
    "lam = 4.0/Dm  # corresponding lambda parameters\n",
    "W = np.pi*1e3*(Dm/4.0)**4  # corresponding water content\n",
    "\n",
    "myPSD = ExponentialPSD(lam=lam, N0 = (1e5))\n",
    "diameters = np.linspace(.1,3,100)\n",
    "\n",
    "plt.plot(diameters, myPSD(diameters))\n",
    "print(trapz( myPSD(diameters), dx = (diameters[1] - diameters[0])))\n",
    "print(myPSD(diameters).sum()*(diameters[1] - diameters[0]))\n",
    "\n",
    "scatterer = pytmatrix.tmatrix.Scatterer()\n",
    "scatterer.set_geometry(pytmatrix.tmatrix_aux.geom_horiz_forw)\n",
    "\n",
    "wavelength = constants.c/10.0e9 * 1e3  # in mm\n",
    "ref_index = complex(7.718, 2.473)\n",
    "\n",
    "# set up orientation averaging, Gaussian PDF with mean=0 and std=7 deg\n",
    "scatterer.or_pdf = pytmatrix.orientation.gaussian_pdf(7.0)  # orientation PDF\n",
    "scatterer.orient = pytmatrix.orientation.orient_averaged_fixed  # averaging method\n",
    "\n",
    "# set up PSD integration\n",
    "scatterer.psd_integrator = pytmatrix.psd.PSDIntegrator()\n",
    "scatterer.psd_integrator.D_max = 8.0  # maximum diameter considered\n",
    "scatterer.psd_integrator.geometries = (pytmatrix.tmatrix_aux.geom_horiz_back, pytmatrix.tmatrix_aux.geom_horiz_forw)\n",
    "scatterer.psd_integrator.axis_ratio_func = axis_ratio\n",
    "scatterer.psd = myPSD\n",
    "scatterer.wavelength = wavelength\n",
    "scatterer.m = ref_index\n",
    "scatterer.psd_integrator.init_scatter_table(scatterer)\n",
    "kdp = pytmatrix.radar.Kdp(scatterer)\n",
    "zdr = pytmatrix.radar.Zdr(scatterer)\n",
    "\n",
    "print(kdp,zdr)"
   ]
  },
  {
   "cell_type": "code",
   "execution_count": 48,
   "metadata": {},
   "outputs": [
    {
     "name": "stdout",
     "output_type": "stream",
     "text": [
      "90.29669525205968\n"
     ]
    }
   ],
   "source": [
    "dsd_gamma = my_psd(diameters)\n",
    "tots = trapz(dsd_gamma, dx = (diameters[1]- diameters[0]))\n",
    "print(tots)"
   ]
  },
  {
   "cell_type": "code",
   "execution_count": 38,
   "metadata": {},
   "outputs": [
    {
     "data": {
      "text/plain": [
       "[<matplotlib.lines.Line2D at 0x161f98358>]"
      ]
     },
     "execution_count": 38,
     "metadata": {},
     "output_type": "execute_result"
    },
    {
     "data": {
      "image/png": "[encoded data removed]",
      "text/plain": [
       "<matplotlib.figure.Figure at 0x161fd9a20>"
      ]
     },
     "metadata": {},
     "output_type": "display_data"
    }
   ],
   "source": [
    "plt.plot(diameters, my_psd(diameters))"
   ]
  },
  {
   "cell_type": "code",
   "execution_count": 23,
   "metadata": {},
   "outputs": [],
   "source": [
    "pytmatrix.psd.GammaPSD?"
   ]
  },
  {
   "cell_type": "code",
   "execution_count": null,
   "metadata": {},
   "outputs": [],
   "source": []
  }
 ],
 "metadata": {
  "kernelspec": {
   "display_name": "Python 3",
   "language": "python",
   "name": "python3"
  },
  "language_info": {
   "codemirror_mode": {
    "name": "ipython",
    "version": 3
   },
   "file_extension": ".py",
   "mimetype": "text/x-python",
   "name": "python",
   "nbconvert_exporter": "python",
   "pygments_lexer": "ipython3",
   "version": "3.6.4"
  }
 },
 "nbformat": 4,
 "nbformat_minor": 2
}
